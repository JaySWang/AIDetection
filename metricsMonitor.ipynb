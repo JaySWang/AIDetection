{
 "cells": [
  {
   "cell_type": "code",
   "execution_count": null,
   "metadata": {},
   "outputs": [],
   "source": [
    "import time\n",
    "import math \n",
    "import dataPreProcessor as dp,modelBuilder as mb\n",
    "\n",
    "def init(intervalTime):\n",
    "    mb.initModel(intervalTime)\n",
    "\n",
    "def checkData(data):\n",
    "    dist = model['dist']\n",
    "    KPI = model['KPI']\n",
    "    print((data['cpu'], data['fileSystem'],data['memory'],data['network']))\n",
    "    currentPdf = dist.pdf((data['cpu'], data['fileSystem'],data['memory'],data['network']))\n",
    "    print (\"checking\")\n",
    "    print (\"current pdf:\")\n",
    "    print (currentPdf)\n",
    "    \n",
    "    if KPI>currentPdf:\n",
    "\n",
    "        print ('KPI')\n",
    "        print (KPI)\n",
    "        print ('warning')\n",
    "    else: \n",
    "        print ('normal')\n",
    "        \n",
    "def monitor( inc = 60): \n",
    "    while True: \n",
    "        try:\n",
    "            data = dp.getCurrentJsonData()\n",
    "            for pod in data['pods']:\n",
    "                for d in pod['data']:\n",
    "                    result = mb.checkData(d['cpu'],d['fileSystem'],d['memory'],d['network'])\n",
    "                    if(result):\n",
    "                        print(\"normal\")\n",
    "                    else :\n",
    "                        print(\"warning data:\")\n",
    "                        print(d)\n",
    "        except Exception:\n",
    "            print (Exception)\n",
    "            print('invalid data,ignore checking')\n",
    "        time.sleep(inc) \n",
    "\n",
    "intervalTime = 10*60*60 #10 hours \n",
    "init(intervalTime)\n",
    "monitor(60)"
   ]
  },
  {
   "cell_type": "code",
   "execution_count": null,
   "metadata": {
    "collapsed": true
   },
   "outputs": [],
   "source": []
  }
 ],
 "metadata": {
  "kernelspec": {
   "display_name": "Python 3",
   "language": "python",
   "name": "python3"
  }
 },
 "nbformat": 4,
 "nbformat_minor": 2
}
