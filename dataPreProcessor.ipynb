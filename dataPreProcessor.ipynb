{
 "cells": [
  {
   "cell_type": "code",
   "execution_count": 10,
   "metadata": {
    "collapsed": false,
    "deletable": true,
    "editable": true
   },
   "outputs": [],
   "source": [
    "# coding: utf-8\n",
    "import requests\n",
    "import time\n",
    "import math\n",
    "import calendar\n",
    "import json\n",
    "\n",
    "#ur.urlopen('https://www.zhihu.com')\n",
    "\n",
    "#requests.get('https://delta.sapanywhere.io/api/datasources/proxy/2/query?db=k8smetrics&q=SHOW%20TAG%20VALUES%20FROM%20%22uptime%22%20WITH%20KEY%20%3D%20%22namespace_name%22&epoch=ms')\n",
    "#ur.urlopen('https://delta.sapanywhere.io/api/datasources/proxy/2/query?db=k8smetrics&q=SHOW%20TAG%20VALUES%20FROM%20%22uptime%22%20WITH%20KEY%20%3D%20%22namespace_name%22&epoch=ms')\n",
    "\n",
    "def constructUri(feature,aggregate,startTime,endTime):\n",
    "    uriPre = 'https://delta.sapanywhere.io/api/datasources/proxy/2/query?db=k8smetrics&q=SELECT%20AGGREGATE(%22value%22)%20FROM%20%22FEATURE%22%20WHERE%20%22type%22%20%3D%20%27pod_container%27%20AND%20%22namespace_name%22%20%3D~%20%2Fus%24%2F%20AND%20%22pod_name%22%20%3D~%20%2F%5Eattachment%2F%20AND%20%22container_name%22%20%3D~%20%2F%5Eattachment%24%2F%20AND%20time%20%3E%3D%20'\n",
    "    uriPre = uriPre.replace('FEATURE',feature)\n",
    "    uriPre = uriPre.replace('AGGREGATE',aggregate)\n",
    "    startTime = str(startTime)\n",
    "    uriMid = 's%20and%20time%20%3C%20'\n",
    "    endTime = str(endTime)\n",
    "    uriEnd = 's%20GROUP%20BY%20time(60s)%2C%20%22container_name%22%2C%20%22namespace_name%22%2C%20%22pod_name%22%20fill(null)' \n",
    "    uri = uriPre+startTime+uriMid+endTime+uriEnd\n",
    "    print(uri)\n",
    "    return uri\n",
    "\n",
    "def constructNetworkUri(feature,aggregate,startTime,endTime):\n",
    "    uriPre = 'https://delta.sapanywhere.io/api/datasources/proxy/2/query?db=k8smetrics&q=SELECT%20AGGREGATE(%22value%22)%20FROM%20%22FEATURE%22%20WHERE%20%22type%22%20%3D%20%27pod%27%20AND%20%22namespace_name%22%20%3D~%20%2Fus%24%2F%20AND%20%22pod_name%22%20%3D~%20%2F%5Eattachment%2F%20AND%20time%20%3E%3D%20'\n",
    "    uriPre = uriPre.replace('FEATURE',feature)\n",
    "    uriPre = uriPre.replace('AGGREGATE',aggregate)\n",
    "    startTime = str(startTime)\n",
    "    uriMid = 's%20and%20time%20%3C%20'\n",
    "    endTime = str(endTime)\n",
    "    uriEnd = 's%20GROUP%20BY%20time(60s)%2C%20%22container_name%22%2C%20%22namespace_name%22%2C%20%22pod_name%22%20fill(null)' \n",
    "    uri = uriPre+startTime+uriMid+endTime+uriEnd\n",
    "    print(uri)\n",
    "    return uri\n",
    "\n",
    "\n",
    "def requestData(uri):\n",
    "    r = requests.get(uri, cert=('./key/idKey.crt','./key/idKey.key'), verify =False)\n",
    "    return r.text\n",
    "\n",
    "def getCurrentJsonData():\n",
    "    \n",
    "    endTime = calendar.timegm(time.gmtime())\n",
    "    endTime = math.floor(endTime/60)*60-1  # in minute\n",
    "\n",
    "    interval = 59\n",
    "    startTime = endTime-interval\n",
    "\n",
    "    \n",
    "    cpuData = requestData(constructUri('cpu%2Fusage_rate','sum',startTime,endTime))\n",
    "    memoryData = requestData(constructUri('memory%2Fusage','max',startTime,endTime))\n",
    "    fileSystemData = requestData(constructUri('filesystem%2Fusage','sum',startTime,endTime))\n",
    "    networkData = requestData(constructNetworkUri('network%2Ftx_rate','sum',startTime,endTime))\n",
    "\n",
    "    cpuJson = json.loads(cpuData)\n",
    "    memoryJson = json.loads(memoryData)\n",
    "    fileSystemJson = json.loads(fileSystemData)\n",
    "    networkJson = json.loads(networkData)\n",
    "    \n",
    "    metricsData = dict()\n",
    "    pods = list()\n",
    "    metricsData['pods'] = pods\n",
    "\n",
    "\n",
    "    for serie in cpuJson['results'][0]['series']:\n",
    "        pod = dict()\n",
    "    \n",
    "        pod['podName'] = serie['tags']['pod_name']\n",
    "        data = list()\n",
    "        cpuData = dict()\n",
    "        cpuData['time'] = serie['values'][0][0]\n",
    "        cpuData['cpu'] = serie['values'][0][1]\n",
    "        data.append(cpuData)\n",
    "    \n",
    "        pod['data']=data   \n",
    "        pods.append(pod)    \n",
    "        \n",
    "    series = list()\n",
    "    result = memoryJson['results'][0]\n",
    "\n",
    "    if 'series' in result :\n",
    "        series = result['series'] \n",
    "    \n",
    "    for serie in series:    \n",
    "        podName = serie['tags']['pod_name']\n",
    "        for pod in metricsData['pods']:\n",
    "            if pod['podName'] == podName:\n",
    "                d = pod['data']\n",
    "                d[0]['memory'] = serie['values'][0][1]    \n",
    "    \n",
    "    series = list()\n",
    "    result = fileSystemJson['results'][0]\n",
    "\n",
    "    if 'series' in result :\n",
    "        series = result['series'] \n",
    "    \n",
    "    for serie in series:    \n",
    "        podName = serie['tags']['pod_name']\n",
    "        for pod in metricsData['pods']:\n",
    "            if pod['podName'] == podName:\n",
    "                d = pod['data']\n",
    "                d[0]['fileSystem'] = serie['values'][0][1]\n",
    "    \n",
    "    series = list()\n",
    "    result = networkJson['results'][0]\n",
    "\n",
    "    if 'series' in result :\n",
    "        series = result['series']\n",
    "\n",
    "    for serie in series:    \n",
    "        podName = serie['tags']['pod_name']\n",
    "        for pod in metricsData['pods']:\n",
    "            if pod['podName'] == podName:\n",
    "                d = pod['data']\n",
    "                d[0]['network'] = serie['values'][0][1]\n",
    "\n",
    "    print(metricsData) \n",
    "    return metricsData\n",
    "                "
   ]
  },
  {
   "cell_type": "code",
   "execution_count": 11,
   "metadata": {
    "collapsed": false,
    "deletable": true,
    "editable": true
   },
   "outputs": [
    {
     "name": "stdout",
     "output_type": "stream",
     "text": [
      "1495788974\n",
      "https://delta.sapanywhere.io/api/datasources/proxy/2/query?db=k8smetrics&q=SELECT%20sum(%22value%22)%20FROM%20%22cpu%2Fusage_rate%22%20WHERE%20%22type%22%20%3D%20%27pod_container%27%20AND%20%22namespace_name%22%20%3D~%20%2Fus%24%2F%20AND%20%22pod_name%22%20%3D~%20%2F%5Eattachment%2F%20AND%20%22container_name%22%20%3D~%20%2F%5Eattachment%24%2F%20AND%20time%20%3E%3D%201495788900s%20and%20time%20%3C%201495788959s%20GROUP%20BY%20time(60s)%2C%20%22container_name%22%2C%20%22namespace_name%22%2C%20%22pod_name%22%20fill(null)\n"
     ]
    },
    {
     "name": "stderr",
     "output_type": "stream",
     "text": [
      "c:\\users\\i325442\\appdata\\local\\programs\\python\\python35\\lib\\site-packages\\requests\\packages\\urllib3\\connectionpool.py:852: InsecureRequestWarning: Unverified HTTPS request is being made. Adding certificate verification is strongly advised. See: https://urllib3.readthedocs.io/en/latest/advanced-usage.html#ssl-warnings\n",
      "  InsecureRequestWarning)\n"
     ]
    },
    {
     "name": "stdout",
     "output_type": "stream",
     "text": [
      "https://delta.sapanywhere.io/api/datasources/proxy/2/query?db=k8smetrics&q=SELECT%20max(%22value%22)%20FROM%20%22memory%2Fusage%22%20WHERE%20%22type%22%20%3D%20%27pod_container%27%20AND%20%22namespace_name%22%20%3D~%20%2Fus%24%2F%20AND%20%22pod_name%22%20%3D~%20%2F%5Eattachment%2F%20AND%20%22container_name%22%20%3D~%20%2F%5Eattachment%24%2F%20AND%20time%20%3E%3D%201495788900s%20and%20time%20%3C%201495788959s%20GROUP%20BY%20time(60s)%2C%20%22container_name%22%2C%20%22namespace_name%22%2C%20%22pod_name%22%20fill(null)\n"
     ]
    },
    {
     "name": "stderr",
     "output_type": "stream",
     "text": [
      "c:\\users\\i325442\\appdata\\local\\programs\\python\\python35\\lib\\site-packages\\requests\\packages\\urllib3\\connectionpool.py:852: InsecureRequestWarning: Unverified HTTPS request is being made. Adding certificate verification is strongly advised. See: https://urllib3.readthedocs.io/en/latest/advanced-usage.html#ssl-warnings\n",
      "  InsecureRequestWarning)\n"
     ]
    },
    {
     "name": "stdout",
     "output_type": "stream",
     "text": [
      "https://delta.sapanywhere.io/api/datasources/proxy/2/query?db=k8smetrics&q=SELECT%20sum(%22value%22)%20FROM%20%22filesystem%2Fusage%22%20WHERE%20%22type%22%20%3D%20%27pod_container%27%20AND%20%22namespace_name%22%20%3D~%20%2Fus%24%2F%20AND%20%22pod_name%22%20%3D~%20%2F%5Eattachment%2F%20AND%20%22container_name%22%20%3D~%20%2F%5Eattachment%24%2F%20AND%20time%20%3E%3D%201495788900s%20and%20time%20%3C%201495788959s%20GROUP%20BY%20time(60s)%2C%20%22container_name%22%2C%20%22namespace_name%22%2C%20%22pod_name%22%20fill(null)\n"
     ]
    },
    {
     "name": "stderr",
     "output_type": "stream",
     "text": [
      "c:\\users\\i325442\\appdata\\local\\programs\\python\\python35\\lib\\site-packages\\requests\\packages\\urllib3\\connectionpool.py:852: InsecureRequestWarning: Unverified HTTPS request is being made. Adding certificate verification is strongly advised. See: https://urllib3.readthedocs.io/en/latest/advanced-usage.html#ssl-warnings\n",
      "  InsecureRequestWarning)\n"
     ]
    },
    {
     "name": "stdout",
     "output_type": "stream",
     "text": [
      "https://delta.sapanywhere.io/api/datasources/proxy/2/query?db=k8smetrics&q=SELECT%20sum(%22value%22)%20FROM%20%22network%2Ftx_rate%22%20WHERE%20%22type%22%20%3D%20%27pod%27%20AND%20%22namespace_name%22%20%3D~%20%2Fus%24%2F%20AND%20%22pod_name%22%20%3D~%20%2F%5Eattachment%2F%20AND%20time%20%3E%3D%201495788900s%20and%20time%20%3C%201495788959s%20GROUP%20BY%20time(60s)%2C%20%22container_name%22%2C%20%22namespace_name%22%2C%20%22pod_name%22%20fill(null)\n"
     ]
    },
    {
     "name": "stderr",
     "output_type": "stream",
     "text": [
      "c:\\users\\i325442\\appdata\\local\\programs\\python\\python35\\lib\\site-packages\\requests\\packages\\urllib3\\connectionpool.py:852: InsecureRequestWarning: Unverified HTTPS request is being made. Adding certificate verification is strongly advised. See: https://urllib3.readthedocs.io/en/latest/advanced-usage.html#ssl-warnings\n",
      "  InsecureRequestWarning)\n"
     ]
    },
    {
     "name": "stdout",
     "output_type": "stream",
     "text": [
      "{'pods': [{'podName': 'attachment-1358228146-fhnfl', 'data': [{'network': 3152.81005859375, 'time': '2017-05-26T08:55:00Z', 'memory': 6837510144, 'cpu': 5, 'fileSystem': 1577492480}]}, {'podName': 'attachment-1358228146-nscds', 'data': [{'network': 3275.0283203125, 'time': '2017-05-26T08:55:00Z', 'memory': 6730264576, 'cpu': 4, 'fileSystem': 1724059648}]}]}\n"
     ]
    },
    {
     "data": {
      "text/plain": [
       "{'pods': [{'data': [{'cpu': 5,\n",
       "     'fileSystem': 1577492480,\n",
       "     'memory': 6837510144,\n",
       "     'network': 3152.81005859375,\n",
       "     'time': '2017-05-26T08:55:00Z'}],\n",
       "   'podName': 'attachment-1358228146-fhnfl'},\n",
       "  {'data': [{'cpu': 4,\n",
       "     'fileSystem': 1724059648,\n",
       "     'memory': 6730264576,\n",
       "     'network': 3275.0283203125,\n",
       "     'time': '2017-05-26T08:55:00Z'}],\n",
       "   'podName': 'attachment-1358228146-nscds'}]}"
      ]
     },
     "execution_count": 11,
     "metadata": {},
     "output_type": "execute_result"
    }
   ],
   "source": [
    "getCurrentJsonData()"
   ]
  },
  {
   "cell_type": "code",
   "execution_count": 3,
   "metadata": {
    "collapsed": false,
    "deletable": true,
    "editable": true
   },
   "outputs": [
    {
     "name": "stdout",
     "output_type": "stream",
     "text": [
      "{'pods': [{'podName': 'attachment-1358228146-fhnfl', 'data': [{'time': '2017-05-26T08:06:00Z', 'cpu': 6}]}, {'podName': 'attachment-1358228146-nscds', 'data': [{'time': '2017-05-26T08:06:00Z', 'cpu': 11}]}]}\n"
     ]
    }
   ],
   "source": []
  },
  {
   "cell_type": "code",
   "execution_count": 4,
   "metadata": {
    "collapsed": false
   },
   "outputs": [
    {
     "name": "stdout",
     "output_type": "stream",
     "text": [
      "{'pods': [{'podName': 'attachment-1358228146-fhnfl', 'data': [{'time': '2017-05-26T08:06:00Z', 'memory': 6835294208, 'cpu': 6}]}, {'podName': 'attachment-1358228146-nscds', 'data': [{'time': '2017-05-26T08:06:00Z', 'memory': 6731898880, 'cpu': 11}]}]}\n"
     ]
    }
   ],
   "source": []
  },
  {
   "cell_type": "code",
   "execution_count": 6,
   "metadata": {
    "collapsed": false
   },
   "outputs": [
    {
     "name": "stdout",
     "output_type": "stream",
     "text": [
      "{'pods': [{'podName': 'attachment-1358228146-fhnfl', 'data': [{'time': '2017-05-26T08:06:00Z', 'memory': 6835294208, 'cpu': 6, 'fileSystem': 1575518208}]}, {'podName': 'attachment-1358228146-nscds', 'data': [{'time': '2017-05-26T08:06:00Z', 'memory': 6731898880, 'cpu': 11, 'fileSystem': 1722138624}]}]}\n"
     ]
    }
   ],
   "source": [
    " "
   ]
  },
  {
   "cell_type": "code",
   "execution_count": 8,
   "metadata": {
    "collapsed": false
   },
   "outputs": [
    {
     "name": "stdout",
     "output_type": "stream",
     "text": [
      "{'pods': [{'podName': 'attachment-1358228146-fhnfl', 'data': [{'network': 17165.9765625, 'time': '2017-05-26T08:06:00Z', 'memory': 6835294208, 'cpu': 6, 'fileSystem': 1575518208}]}, {'podName': 'attachment-1358228146-nscds', 'data': [{'network': 7709.628662109375, 'time': '2017-05-26T08:06:00Z', 'memory': 6731898880, 'cpu': 11, 'fileSystem': 1722138624}]}]}\n"
     ]
    }
   ],
   "source": []
  },
  {
   "cell_type": "code",
   "execution_count": null,
   "metadata": {
    "collapsed": false,
    "deletable": true,
    "editable": true
   },
   "outputs": [],
   "source": []
  },
  {
   "cell_type": "code",
   "execution_count": null,
   "metadata": {
    "collapsed": false
   },
   "outputs": [],
   "source": []
  },
  {
   "cell_type": "code",
   "execution_count": null,
   "metadata": {
    "collapsed": true
   },
   "outputs": [],
   "source": []
  }
 ],
 "metadata": {
  "kernelspec": {
   "display_name": "Python 3",
   "language": "python",
   "name": "python3"
  },
  "language_info": {
   "codemirror_mode": {
    "name": "ipython",
    "version": 3
   },
   "file_extension": ".py",
   "mimetype": "text/x-python",
   "name": "python",
   "nbconvert_exporter": "python",
   "pygments_lexer": "ipython3",
   "version": "3.5.2"
  }
 },
 "nbformat": 4,
 "nbformat_minor": 2
}
