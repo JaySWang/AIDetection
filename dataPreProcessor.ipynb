{
 "cells": [
  {
   "cell_type": "code",
   "execution_count": 52,
   "metadata": {
    "collapsed": true
   },
   "outputs": [],
   "source": [
    "# coding: utf-8\n",
    "import requests\n",
    "import time\n",
    "import math\n",
    "import calendar\n",
    "import json\n",
    "\n",
    "#ur.urlopen('https://www.zhihu.com')\n",
    "\n",
    "#requests.get('https://delta.sapanywhere.io/api/datasources/proxy/2/query?db=k8smetrics&q=SHOW%20TAG%20VALUES%20FROM%20%22uptime%22%20WITH%20KEY%20%3D%20%22namespace_name%22&epoch=ms')\n",
    "#ur.urlopen('https://delta.sapanywhere.io/api/datasources/proxy/2/query?db=k8smetrics&q=SHOW%20TAG%20VALUES%20FROM%20%22uptime%22%20WITH%20KEY%20%3D%20%22namespace_name%22&epoch=ms')\n",
    "\n",
    "def constructUri(feature,aggregate,startTime,endTime):\n",
    "    uriPre = 'https://delta.sapanywhere.io/api/datasources/proxy/2/query?db=k8smetrics&q=SELECT%20AGGREGATE(%22value%22)%20FROM%20%22FEATURE%22%20WHERE%20%22type%22%20%3D%20%27pod_container%27%20AND%20%22namespace_name%22%20%3D~%20%2Fus%24%2F%20AND%20%22pod_name%22%20%3D~%20%2F%5Eattachment%2F%20AND%20%22container_name%22%20%3D~%20%2F%5Eattachment%24%2F%20AND%20time%20%3E%3D%20'\n",
    "    uriPre = uriPre.replace('FEATURE',feature)\n",
    "    uriPre = uriPre.replace('AGGREGATE',aggregate)\n",
    "    startTime = str(startTime)\n",
    "    uriMid = 's%20and%20time%20%3C%20'\n",
    "    endTime = str(endTime)\n",
    "    uriEnd = 's%20GROUP%20BY%20time(60s)%2C%20%22container_name%22%2C%20%22namespace_name%22%2C%20%22pod_name%22%20fill(null)' \n",
    "    uri = uriPre+startTime+uriMid+endTime+uriEnd\n",
    "    return uri\n",
    "\n",
    "def constructNetworkUri(feature,aggregate,startTime,endTime):\n",
    "    uriPre = 'https://delta.sapanywhere.io/api/datasources/proxy/2/query?db=k8smetrics&q=SELECT%20AGGREGATE(%22value%22)%20FROM%20%22FEATURE%22%20WHERE%20%22type%22%20%3D%20%27pod%27%20AND%20%22namespace_name%22%20%3D~%20%2Fus%24%2F%20AND%20%22pod_name%22%20%3D~%20%2F%5Eattachment%2F%20AND%20time%20%3E%3D%20'\n",
    "    uriPre = uriPre.replace('FEATURE',feature)\n",
    "    uriPre = uriPre.replace('AGGREGATE',aggregate)\n",
    "    startTime = str(startTime)\n",
    "    uriMid = 's%20and%20time%20%3C%20'\n",
    "    endTime = str(endTime)\n",
    "    uriEnd = 's%20GROUP%20BY%20time(60s)%2C%20%22container_name%22%2C%20%22namespace_name%22%2C%20%22pod_name%22%20fill(null)' \n",
    "    uri = uriPre+startTime+uriMid+endTime+uriEnd\n",
    "    return uri\n",
    "\n",
    "\n",
    "def requestData(uri):\n",
    "    r = requests.get(uri, cert=('./key/idKey.crt','./key/idKey.key'))\n",
    "    return r.text\n",
    "\n",
    "def getCurrentJsonData():\n",
    "    interval =60\n",
    "    return getJsonData(interval)\n",
    "\n",
    "def getJsonData(intervalInSec):\n",
    "    \n",
    "    endTime = calendar.timegm(time.gmtime())\n",
    "    endTime = math.floor(endTime/60)*60-1  # in minute\n",
    "\n",
    "    startTime = endTime-intervalInSec+1\n",
    "\n",
    "    \n",
    "    cpuData = requestData(constructUri('cpu%2Fusage_rate','sum',startTime,endTime))\n",
    "    memoryData = requestData(constructUri('memory%2Fusage','max',startTime,endTime))\n",
    "    fileSystemData = requestData(constructUri('filesystem%2Fusage','sum',startTime,endTime))\n",
    "    networkData = requestData(constructNetworkUri('network%2Ftx_rate','sum',startTime,endTime))\n",
    "\n",
    "    cpuJson = json.loads(cpuData)\n",
    "    memoryJson = json.loads(memoryData)\n",
    "    fileSystemJson = json.loads(fileSystemData)\n",
    "    networkJson = json.loads(networkData)\n",
    "\n",
    "    \n",
    "    print (cpuJson)\n",
    "    print (memoryJson)\n",
    "    print (fileSystemJson)\n",
    "    print (networkJson)\n",
    "   \n",
    "    \n",
    "    metricsData = dict()\n",
    "    pods = list()\n",
    "    metricsData['pods'] = pods\n",
    "    \n",
    "    series = list()\n",
    "    result = cpuJson['results'][0]\n",
    "    \n",
    "    if 'series' in result :\n",
    "        series = result['series'] \n",
    "        \n",
    "    for serie in series:\n",
    "        pod = dict()\n",
    "    \n",
    "        #init podName when processing the first feature(cup)\n",
    "        pod['podName'] = serie['tags']['pod_name']\n",
    "        data = list()\n",
    "        for value in serie['values'] :\n",
    "            cpuData = dict()\n",
    "            cpuData['time'] = value[0]\n",
    "            cpuData['cpu'] = value[1]\n",
    "            data.append(cpuData)\n",
    "    \n",
    "        pod['data']=data   \n",
    "        pods.append(pod)    \n",
    "        \n",
    "    series = list()\n",
    "    result = memoryJson['results'][0]\n",
    "\n",
    "    if 'series' in result :\n",
    "        series = result['series'] \n",
    "    \n",
    "    for serie in series:    \n",
    "        podName = serie['tags']['pod_name']\n",
    "        for pod in metricsData['pods']:\n",
    "            if pod['podName'] == podName:\n",
    "                d = pod['data']\n",
    "                dataIndex = 0\n",
    "                for value in serie['values']:\n",
    "                    d[dataIndex]['memory'] = value[1]\n",
    "                    dataIndex+=1\n",
    "    \n",
    "    series = list()\n",
    "    result = fileSystemJson['results'][0]\n",
    "\n",
    "    if 'series' in result :\n",
    "        series = result['series'] \n",
    "    \n",
    "    for serie in series:    \n",
    "        podName = serie['tags']['pod_name']\n",
    "        for pod in metricsData['pods']:\n",
    "            if pod['podName'] == podName:\n",
    "                d = pod['data']\n",
    "                dataIndex = 0\n",
    "                for value in serie['values']:\n",
    "                    d[dataIndex]['fileSystem'] = value[1]\n",
    "                    dataIndex+=1\n",
    "    \n",
    "    series = list()\n",
    "    result = networkJson['results'][0]\n",
    "\n",
    "    if 'series' in result :\n",
    "        series = result['series']\n",
    "\n",
    "    for serie in series:    \n",
    "        podName = serie['tags']['pod_name']\n",
    "        for pod in metricsData['pods']:\n",
    "            if pod['podName'] == podName:\n",
    "                d = pod['data']\n",
    "                dataIndex = 0\n",
    "                for value in serie['values']:\n",
    "                    d[dataIndex]['network'] = value[1]\n",
    "                    dataIndex+=1\n",
    "\n",
    "    print(metricsData) \n",
    "    return metricsData\n",
    "\n",
    "                "
   ]
  },
  {
   "cell_type": "code",
   "execution_count": 54,
   "metadata": {},
   "outputs": [
    {
     "name": "stdout",
     "output_type": "stream",
     "text": [
      "{'results': [{'statement_id': 0, 'series': [{'name': 'cpu/usage_rate', 'tags': {'container_name': 'attachment', 'namespace_name': 'us', 'pod_name': 'attachment-1358228146-ftllw'}, 'columns': ['time', 'sum'], 'values': [['2017-06-08T03:20:00Z', 2]]}]}]}\n",
      "{'results': [{'statement_id': 0, 'series': [{'name': 'memory/usage', 'tags': {'container_name': 'attachment', 'namespace_name': 'us', 'pod_name': 'attachment-1358228146-ftllw'}, 'columns': ['time', 'max'], 'values': [['2017-06-08T03:20:00Z', 5568794624]]}]}]}\n",
      "{'results': [{'statement_id': 0, 'series': [{'name': 'filesystem/usage', 'tags': {'container_name': 'attachment', 'namespace_name': 'us', 'pod_name': 'attachment-1358228146-ftllw'}, 'columns': ['time', 'sum'], 'values': [['2017-06-08T03:20:00Z', 842362880]]}]}]}\n",
      "{'results': [{'statement_id': 0, 'series': [{'name': 'network/tx_rate', 'tags': {'container_name': '', 'namespace_name': 'us', 'pod_name': 'attachment-1358228146-ftllw'}, 'columns': ['time', 'sum'], 'values': [['2017-06-08T03:20:00Z', 4315.6123046875]]}]}]}\n",
      "{'pods': [{'podName': 'attachment-1358228146-ftllw', 'data': [{'time': '2017-06-08T03:20:00Z', 'cpu': 2, 'memory': 5568794624, 'fileSystem': 842362880, 'network': 4315.6123046875}]}]}\n"
     ]
    },
    {
     "data": {
      "text/plain": [
       "{'pods': [{'data': [{'cpu': 2,\n",
       "     'fileSystem': 842362880,\n",
       "     'memory': 5568794624,\n",
       "     'network': 4315.6123046875,\n",
       "     'time': '2017-06-08T03:20:00Z'}],\n",
       "   'podName': 'attachment-1358228146-ftllw'}]}"
      ]
     },
     "execution_count": 54,
     "metadata": {},
     "output_type": "execute_result"
    }
   ],
   "source": [
    "getCurrentJsonData()"
   ]
  },
  {
   "cell_type": "code",
   "execution_count": 55,
   "metadata": {},
   "outputs": [
    {
     "name": "stdout",
     "output_type": "stream",
     "text": [
      "{'results': [{'statement_id': 0, 'series': [{'name': 'cpu/usage_rate', 'tags': {'container_name': 'attachment', 'namespace_name': 'us', 'pod_name': 'attachment-1358228146-ftllw'}, 'columns': ['time', 'sum'], 'values': [['2017-06-08T03:21:00Z', 7]]}]}]}\n",
      "{'results': [{'statement_id': 0, 'series': [{'name': 'memory/usage', 'tags': {'container_name': 'attachment', 'namespace_name': 'us', 'pod_name': 'attachment-1358228146-ftllw'}, 'columns': ['time', 'max'], 'values': [['2017-06-08T03:21:00Z', 5562843136]]}]}]}\n",
      "{'results': [{'statement_id': 0, 'series': [{'name': 'filesystem/usage', 'tags': {'container_name': 'attachment', 'namespace_name': 'us', 'pod_name': 'attachment-1358228146-ftllw'}, 'columns': ['time', 'sum'], 'values': [['2017-06-08T03:21:00Z', 1685016576]]}]}]}\n",
      "{'results': [{'statement_id': 0, 'series': [{'name': 'network/tx_rate', 'tags': {'container_name': '', 'namespace_name': 'us', 'pod_name': 'attachment-1358228146-ftllw'}, 'columns': ['time', 'sum'], 'values': [['2017-06-08T03:21:00Z', 25785.89453125]]}]}]}\n",
      "{'pods': [{'podName': 'attachment-1358228146-ftllw', 'data': [{'time': '2017-06-08T03:21:00Z', 'cpu': 7, 'memory': 5562843136, 'fileSystem': 1685016576, 'network': 25785.89453125}]}]}\n"
     ]
    },
    {
     "data": {
      "text/plain": [
       "{'pods': [{'data': [{'cpu': 7,\n",
       "     'fileSystem': 1685016576,\n",
       "     'memory': 5562843136,\n",
       "     'network': 25785.89453125,\n",
       "     'time': '2017-06-08T03:21:00Z'}],\n",
       "   'podName': 'attachment-1358228146-ftllw'}]}"
      ]
     },
     "execution_count": 55,
     "metadata": {},
     "output_type": "execute_result"
    }
   ],
   "source": [
    "getJsonData(60)"
   ]
  },
  {
   "cell_type": "code",
   "execution_count": 49,
   "metadata": {},
   "outputs": [
    {
     "name": "stdout",
     "output_type": "stream",
     "text": [
      "{'pods': []}\n"
     ]
    },
    {
     "data": {
      "text/plain": [
       "{'pods': []}"
      ]
     },
     "execution_count": 49,
     "metadata": {},
     "output_type": "execute_result"
    }
   ],
   "source": [
    "getCurrentJsonData()"
   ]
  },
  {
   "cell_type": "code",
   "execution_count": null,
   "metadata": {
    "collapsed": true
   },
   "outputs": [],
   "source": []
  }
 ],
 "metadata": {
  "kernelspec": {
   "display_name": "Python 3",
   "language": "python",
   "name": "python3"
  },
  "language_info": {
   "codemirror_mode": {
    "name": "ipython",
    "version": 3
   },
   "file_extension": ".py",
   "mimetype": "text/x-python",
   "name": "python",
   "nbconvert_exporter": "python",
   "pygments_lexer": "ipython3",
   "version": "3.6.1"
  }
 },
 "nbformat": 4,
 "nbformat_minor": 2
}
